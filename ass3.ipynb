{
 "cells": [
  {
   "cell_type": "code",
   "execution_count": 71,
   "metadata": {},
   "outputs": [],
   "source": [
    "import numpy as np\n",
    "import pandas as pd\n",
    "import tensorflow as tf\n",
    "import keras\n",
    "\n",
    "from keras.datasets import mnist"
   ]
  },
  {
   "cell_type": "code",
   "execution_count": 72,
   "metadata": {},
   "outputs": [
    {
     "data": {
      "text/plain": [
       "(60000, 28, 28)"
      ]
     },
     "execution_count": 72,
     "metadata": {},
     "output_type": "execute_result"
    }
   ],
   "source": [
    "(x_train, y_train), (x_test, y_test) = mnist.load_data()\n",
    "x_train.shape"
   ]
  },
  {
   "cell_type": "code",
   "execution_count": 73,
   "metadata": {},
   "outputs": [],
   "source": [
    "#Make a copy of training data\n",
    "x_train_copy = x_train.copy()"
   ]
  },
  {
   "cell_type": "code",
   "execution_count": 74,
   "metadata": {},
   "outputs": [
    {
     "data": {
      "text/plain": [
       "(60000, 784)"
      ]
     },
     "execution_count": 74,
     "metadata": {},
     "output_type": "execute_result"
    }
   ],
   "source": [
    "#Flatten the training data\n",
    "x_train = x_train.reshape(x_train.shape[0], x_train.shape[1] * x_train.shape[2]) \n",
    "x_test = x_test.reshape(x_test.shape[0], x_test.shape[1] * x_test.shape[2])\n",
    "x_train.shape"
   ]
  },
  {
   "cell_type": "code",
   "execution_count": 75,
   "metadata": {},
   "outputs": [],
   "source": [
    "#Make a copy of training classes\n",
    "y_train_copy = y_train.copy()"
   ]
  },
  {
   "cell_type": "code",
   "execution_count": 76,
   "metadata": {},
   "outputs": [],
   "source": [
    "#Convert class labels to categorical data\n",
    "y_train = keras.utils.to_categorical(y_train, 10)\n",
    "y_test = keras.utils.to_categorical(y_test, 10)"
   ]
  },
  {
   "cell_type": "code",
   "execution_count": 77,
   "metadata": {},
   "outputs": [],
   "source": [
    "#Designing the model\n",
    "from keras.layers import Dense, Activation, Dropout\n",
    "from keras.models import Sequential\n",
    "\n",
    "import matplotlib.pyplot as plt"
   ]
  },
  {
   "cell_type": "code",
   "execution_count": 78,
   "metadata": {},
   "outputs": [
    {
     "name": "stdout",
     "output_type": "stream",
     "text": [
      "_________________________________________________________________\n",
      "Layer (type)                 Output Shape              Param #   \n",
      "=================================================================\n",
      "dense_33 (Dense)             (None, 64)                50240     \n",
      "_________________________________________________________________\n",
      "dropout_25 (Dropout)         (None, 64)                0         \n",
      "_________________________________________________________________\n",
      "dense_34 (Dense)             (None, 256)               16640     \n",
      "_________________________________________________________________\n",
      "dropout_26 (Dropout)         (None, 256)               0         \n",
      "_________________________________________________________________\n",
      "dense_35 (Dense)             (None, 128)               32896     \n",
      "_________________________________________________________________\n",
      "dropout_27 (Dropout)         (None, 128)               0         \n",
      "_________________________________________________________________\n",
      "dense_36 (Dense)             (None, 10)                1290      \n",
      "=================================================================\n",
      "Total params: 101,066\n",
      "Trainable params: 101,066\n",
      "Non-trainable params: 0\n",
      "_________________________________________________________________\n"
     ]
    }
   ],
   "source": [
    "model = Sequential()\n",
    "model.add(Dense(64,activation='sigmoid',input_shape=(784,)))\n",
    "model.add(Dropout(rate = 0.8))\n",
    "model.add(Dense(256,activation='tanh'))\n",
    "model.add(Dropout(rate = 0.5))\n",
    "model.add(Dense(128,activation='relu'))\n",
    "model.add(Dropout(rate = 0.2))\n",
    "model.add(Dense(10,activation='softmax'))\n",
    "model.summary()"
   ]
  },
  {
   "cell_type": "code",
   "execution_count": 87,
   "metadata": {},
   "outputs": [
    {
     "name": "stdout",
     "output_type": "stream",
     "text": [
      "Train on 54000 samples, validate on 6000 samples\n",
      "Epoch 1/30\n",
      "54000/54000 [==============================] - 2s 45us/step - loss: 0.8679 - acc: 0.7158 - val_loss: 0.3198 - val_acc: 0.9177\n",
      "Epoch 2/30\n",
      "54000/54000 [==============================] - 2s 36us/step - loss: 0.8749 - acc: 0.7150 - val_loss: 0.3040 - val_acc: 0.9208\n",
      "Epoch 3/30\n",
      "54000/54000 [==============================] - 2s 36us/step - loss: 0.8913 - acc: 0.7046 - val_loss: 0.3156 - val_acc: 0.9225\n",
      "Epoch 4/30\n",
      "54000/54000 [==============================] - 2s 36us/step - loss: 0.8868 - acc: 0.7059 - val_loss: 0.3203 - val_acc: 0.9178\n",
      "Epoch 5/30\n",
      "54000/54000 [==============================] - 2s 36us/step - loss: 0.8817 - acc: 0.7098 - val_loss: 0.3082 - val_acc: 0.9232\n",
      "Epoch 6/30\n",
      "54000/54000 [==============================] - 2s 36us/step - loss: 0.8914 - acc: 0.7033 - val_loss: 0.3200 - val_acc: 0.9182\n",
      "Epoch 7/30\n",
      "54000/54000 [==============================] - 2s 37us/step - loss: 0.8830 - acc: 0.7098 - val_loss: 0.3103 - val_acc: 0.9195\n",
      "Epoch 8/30\n",
      "54000/54000 [==============================] - 2s 37us/step - loss: 0.8876 - acc: 0.7062 - val_loss: 0.3235 - val_acc: 0.9183\n",
      "Epoch 9/30\n",
      "54000/54000 [==============================] - 2s 37us/step - loss: 0.8712 - acc: 0.7111 - val_loss: 0.3113 - val_acc: 0.9182\n",
      "Epoch 10/30\n",
      "54000/54000 [==============================] - 2s 40us/step - loss: 0.8655 - acc: 0.7145 - val_loss: 0.3064 - val_acc: 0.9182\n",
      "Epoch 11/30\n",
      "54000/54000 [==============================] - 2s 39us/step - loss: 0.8853 - acc: 0.7043 - val_loss: 0.3113 - val_acc: 0.9180\n",
      "Epoch 12/30\n",
      "54000/54000 [==============================] - 2s 39us/step - loss: 0.8669 - acc: 0.7176 - val_loss: 0.3063 - val_acc: 0.9218\n",
      "Epoch 13/30\n",
      "54000/54000 [==============================] - 2s 40us/step - loss: 0.8688 - acc: 0.7156 - val_loss: 0.3179 - val_acc: 0.9185\n",
      "Epoch 14/30\n",
      "54000/54000 [==============================] - 3s 49us/step - loss: 0.8690 - acc: 0.7140 - val_loss: 0.3049 - val_acc: 0.9220\n",
      "Epoch 15/30\n",
      "54000/54000 [==============================] - 2s 38us/step - loss: 0.8730 - acc: 0.7105 - val_loss: 0.3141 - val_acc: 0.9205\n",
      "Epoch 16/30\n",
      "54000/54000 [==============================] - 2s 40us/step - loss: 0.8693 - acc: 0.7103 - val_loss: 0.3199 - val_acc: 0.9175\n",
      "Epoch 17/30\n",
      "54000/54000 [==============================] - 3s 48us/step - loss: 0.8911 - acc: 0.7072 - val_loss: 0.3097 - val_acc: 0.9190\n",
      "Epoch 18/30\n",
      "54000/54000 [==============================] - 3s 48us/step - loss: 0.8604 - acc: 0.7181 - val_loss: 0.3105 - val_acc: 0.9198\n",
      "Epoch 19/30\n",
      "54000/54000 [==============================] - 2s 44us/step - loss: 0.8649 - acc: 0.7148 - val_loss: 0.3017 - val_acc: 0.9237\n",
      "Epoch 20/30\n",
      "54000/54000 [==============================] - 3s 47us/step - loss: 0.8573 - acc: 0.7174 - val_loss: 0.3108 - val_acc: 0.9232\n",
      "Epoch 21/30\n",
      "54000/54000 [==============================] - 2s 43us/step - loss: 0.8581 - acc: 0.7143 - val_loss: 0.3086 - val_acc: 0.9193\n",
      "Epoch 22/30\n",
      "54000/54000 [==============================] - 2s 42us/step - loss: 0.8646 - acc: 0.7131 - val_loss: 0.3059 - val_acc: 0.9238\n",
      "Epoch 23/30\n",
      "54000/54000 [==============================] - 2s 42us/step - loss: 0.8678 - acc: 0.7114 - val_loss: 0.3083 - val_acc: 0.9228\n",
      "Epoch 24/30\n",
      "54000/54000 [==============================] - 2s 44us/step - loss: 0.8664 - acc: 0.7164 - val_loss: 0.2930 - val_acc: 0.9263\n",
      "Epoch 25/30\n",
      "54000/54000 [==============================] - 2s 43us/step - loss: 0.8583 - acc: 0.7186 - val_loss: 0.3148 - val_acc: 0.9225\n",
      "Epoch 26/30\n",
      "54000/54000 [==============================] - 2s 42us/step - loss: 0.8566 - acc: 0.7172 - val_loss: 0.3185 - val_acc: 0.9202\n",
      "Epoch 27/30\n",
      "54000/54000 [==============================] - 2s 42us/step - loss: 0.8578 - acc: 0.7186 - val_loss: 0.3123 - val_acc: 0.9248\n",
      "Epoch 28/30\n",
      "54000/54000 [==============================] - 2s 42us/step - loss: 0.8474 - acc: 0.7224 - val_loss: 0.2963 - val_acc: 0.9217\n",
      "Epoch 29/30\n",
      "54000/54000 [==============================] - 2s 43us/step - loss: 0.8538 - acc: 0.7209 - val_loss: 0.3099 - val_acc: 0.9222\n",
      "Epoch 30/30\n",
      "54000/54000 [==============================] - 2s 42us/step - loss: 0.8573 - acc: 0.7170 - val_loss: 0.3017 - val_acc: 0.9238\n",
      "10000/10000 [==============================] - 0s 35us/step\n"
     ]
    }
   ],
   "source": [
    "#Training\n",
    "model.compile(optimizer='adam',loss='categorical_crossentropy',metrics=['accuracy'])\n",
    "history=model.fit(x_train,y_train,batch_size=128,epochs=30, validation_split=.1)\n",
    "loss,accuracy=model.evaluate(x_test,y_test)"
   ]
  },
  {
   "cell_type": "code",
   "execution_count": 80,
   "metadata": {},
   "outputs": [
    {
     "data": {
      "image/png": "[encoded data removed]",
      "text/plain": [
       "<Figure size 432x288 with 1 Axes>"
      ]
     },
     "metadata": {},
     "output_type": "display_data"
    }
   ],
   "source": [
    "#Plotting\n",
    "plt.plot(history.history['acc'])\n",
    "plt.plot(history.history['val_acc'])\n",
    "plt.title('model accuracy')\n",
    "plt.ylabel('Accuracy')\n",
    "plt.xlabel('Epoch')\n",
    "plt.legend(['Training', 'Validation'], loc='best')\n",
    "plt.show()"
   ]
  },
  {
   "cell_type": "code",
   "execution_count": 81,
   "metadata": {},
   "outputs": [],
   "source": [
    "# print(history.history.keys())"
   ]
  },
  {
   "cell_type": "code",
   "execution_count": 82,
   "metadata": {},
   "outputs": [
    {
     "data": {
      "image/png": "[encoded data removed]",
      "text/plain": [
       "<Figure size 432x288 with 1 Axes>"
      ]
     },
     "metadata": {},
     "output_type": "display_data"
    }
   ],
   "source": [
    "plt.plot(history.history['loss'])\n",
    "plt.plot(history.history['val_loss'])\n",
    "plt.title('model loss')\n",
    "plt.ylabel('Loss')\n",
    "plt.xlabel('Epoch')\n",
    "plt.legend(['Training', 'Validation'], loc='best')\n",
    "plt.show()"
   ]
  },
  {
   "cell_type": "code",
   "execution_count": 83,
   "metadata": {},
   "outputs": [
    {
     "name": "stdout",
     "output_type": "stream",
     "text": [
      "Test loss: 0.368\n",
      "Test accuracy: 0.897\n"
     ]
    }
   ],
   "source": [
    "print(f'Test loss: {loss:.3}')\n",
    "print(f'Test accuracy: {accuracy:.3}')"
   ]
  },
  {
   "cell_type": "code",
   "execution_count": 84,
   "metadata": {
    "scrolled": true
   },
   "outputs": [
    {
     "name": "stdout",
     "output_type": "stream",
     "text": [
      "0.png\n",
      "1.png\n",
      "2.png\n",
      "3.png\n",
      "4.png\n",
      "5.png\n",
      "6.png\n",
      "7.png\n",
      "8.png\n",
      "9.png\n"
     ]
    }
   ],
   "source": [
    "#Prepare custom dataset\n",
    "import cv2\n",
    "x_test_new=[]\n",
    "n_data=10\n",
    "\n",
    "for i in range(n_data):\n",
    "    path=(str)(i)+\".png\"\n",
    "    print(path)\n",
    "    x=cv2.imread(path,0)\n",
    "    x=x\n",
    "    x_test_new.append(x)"
   ]
  },
  {
   "cell_type": "code",
   "execution_count": 85,
   "metadata": {},
   "outputs": [],
   "source": [
    "x_test_new=np.array(x_test_new)\n",
    "x_test_new = x_test_new.reshape(x_test_new.shape[0], x_test_new.shape[1] * x_test_new.shape[2])\n",
    "\n",
    "y_test_new=[]\n",
    "for i in range(n_data):\n",
    "    y_test_new.append(i)\n",
    "    \n",
    "y_test_new=np.array(y_test_new)\n",
    "y_test_new=y_test_new.astype('uint8')\n",
    "\n",
    "y_test_new = keras.utils.to_categorical(y_test_new, 10)"
   ]
  },
  {
   "cell_type": "code",
   "execution_count": 88,
   "metadata": {},
   "outputs": [
    {
     "name": "stdout",
     "output_type": "stream",
     "text": [
      "10/10 [==============================] - 0s 369us/step\n",
      "0.10000000149011612\n"
     ]
    }
   ],
   "source": [
    "#Test on the new test set\n",
    "loss2,accuracy2=model.evaluate(x_test_new,y_test_new)\n",
    "print(accuracy2)"
   ]
  },
  {
   "cell_type": "code",
   "execution_count": null,
   "metadata": {},
   "outputs": [],
   "source": []
  }
 ],
 "metadata": {
  "kernelspec": {
   "display_name": "Python 3",
   "language": "python",
   "name": "python3"
  },
  "language_info": {
   "codemirror_mode": {
    "name": "ipython",
    "version": 3
   },
   "file_extension": ".py",
   "mimetype": "text/x-python",
   "name": "python",
   "nbconvert_exporter": "python",
   "pygments_lexer": "ipython3",
   "version": "3.6.8"
  }
 },
 "nbformat": 4,
 "nbformat_minor": 2
}
