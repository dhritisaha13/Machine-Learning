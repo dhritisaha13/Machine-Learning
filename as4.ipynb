{
 "cells": [
  {
   "cell_type": "code",
   "execution_count": 1,
   "metadata": {},
   "outputs": [
    {
     "name": "stderr",
     "output_type": "stream",
     "text": [
      "Using TensorFlow backend.\n",
      "/home/aishee/anaconda3/lib/python3.7/site-packages/tensorflow/python/framework/dtypes.py:526: FutureWarning: Passing (type, 1) or '1type' as a synonym of type is deprecated; in a future version of numpy, it will be understood as (type, (1,)) / '(1,)type'.\n",
      "  _np_qint8 = np.dtype([(\"qint8\", np.int8, 1)])\n",
      "/home/aishee/anaconda3/lib/python3.7/site-packages/tensorflow/python/framework/dtypes.py:527: FutureWarning: Passing (type, 1) or '1type' as a synonym of type is deprecated; in a future version of numpy, it will be understood as (type, (1,)) / '(1,)type'.\n",
      "  _np_quint8 = np.dtype([(\"quint8\", np.uint8, 1)])\n",
      "/home/aishee/anaconda3/lib/python3.7/site-packages/tensorflow/python/framework/dtypes.py:528: FutureWarning: Passing (type, 1) or '1type' as a synonym of type is deprecated; in a future version of numpy, it will be understood as (type, (1,)) / '(1,)type'.\n",
      "  _np_qint16 = np.dtype([(\"qint16\", np.int16, 1)])\n",
      "/home/aishee/anaconda3/lib/python3.7/site-packages/tensorflow/python/framework/dtypes.py:529: FutureWarning: Passing (type, 1) or '1type' as a synonym of type is deprecated; in a future version of numpy, it will be understood as (type, (1,)) / '(1,)type'.\n",
      "  _np_quint16 = np.dtype([(\"quint16\", np.uint16, 1)])\n",
      "/home/aishee/anaconda3/lib/python3.7/site-packages/tensorflow/python/framework/dtypes.py:530: FutureWarning: Passing (type, 1) or '1type' as a synonym of type is deprecated; in a future version of numpy, it will be understood as (type, (1,)) / '(1,)type'.\n",
      "  _np_qint32 = np.dtype([(\"qint32\", np.int32, 1)])\n",
      "/home/aishee/anaconda3/lib/python3.7/site-packages/tensorflow/python/framework/dtypes.py:535: FutureWarning: Passing (type, 1) or '1type' as a synonym of type is deprecated; in a future version of numpy, it will be understood as (type, (1,)) / '(1,)type'.\n",
      "  np_resource = np.dtype([(\"resource\", np.ubyte, 1)])\n"
     ]
    }
   ],
   "source": [
    "import numpy as np\n",
    "import pandas as pd\n",
    "from sklearn.model_selection import train_test_split\n",
    "from sklearn.preprocessing import LabelEncoder\n",
    "from sklearn.preprocessing import StandardScaler\n",
    "from sklearn.model_selection import KFold,cross_val_score\n",
    "from sklearn.metrics import classification_report\n",
    "from warnings import simplefilter\n",
    "import matplotlib.pyplot as plt\n",
    "from sklearn.metrics import accuracy_score,precision_score,recall_score,confusion_matrix,roc_curve,roc_auc_score\n",
    "from sklearn.model_selection import GridSearchCV\n",
    "#preprocess.\n",
    "from keras.preprocessing.image import ImageDataGenerator\n",
    "\n",
    "#dl libraraies\n",
    "from keras import backend as K\n",
    "from keras.models import Sequential\n",
    "from keras.layers import Dense\n",
    "from keras.optimizers import Adam,SGD,Adagrad,Adadelta,RMSprop\n",
    "from keras.utils import to_categorical\n",
    "\n",
    "# specifically for cnn\n",
    "from keras.layers import Dropout, Flatten,Activation\n",
    "from keras.layers import Conv2D, MaxPooling2D, BatchNormalization\n",
    " \n",
    "import tensorflow as tf\n",
    "import random as rn\n",
    "# specifically for manipulating zipped images and getting numpy arrays of pixel values of images.\n",
    "import cv2                  \n",
    "import numpy as np  \n",
    "from tqdm import tqdm\n",
    "import os                   \n",
    "from random import shuffle  \n",
    "from zipfile import ZipFile\n",
    "from PIL import Image\n",
    "simplefilter(action='ignore',category=FutureWarning)"
   ]
  },
  {
   "cell_type": "code",
   "execution_count": 2,
   "metadata": {},
   "outputs": [],
   "source": [
    "X=[]\n",
    "Z=[]\n",
    "IMG_SIZE=80\n",
    "DAISY_DIR='flowerslab/daisy'\n",
    "SUNFLOWER_DIR='flowerslab/sunflower'\n",
    "ROSE_DIR='flowerslab/rose'\n",
    "DANDELION_DIR='flowerslab/dandelion'\n",
    "TULIP_DIR='flowerslab/tulip'"
   ]
  },
  {
   "cell_type": "code",
   "execution_count": 3,
   "metadata": {},
   "outputs": [],
   "source": [
    "def assign_label(img,flower_type):\n",
    "    return flower_type\n",
    "    "
   ]
  },
  {
   "cell_type": "code",
   "execution_count": 4,
   "metadata": {},
   "outputs": [],
   "source": [
    "def train_data(flower_type,DIR):\n",
    "    for im in tqdm(os.listdir(DIR)):\n",
    "        label=assign_label(im,flower_type)\n",
    "    for i in os.scandir(DIR):\n",
    "        if i.is_file():\n",
    "            filename=(i.path)\n",
    "            im=cv2.imread(filename,1)\n",
    "            im=cv2.resize(im,(80,80))\n",
    "            im = cv2.cvtColor(im, cv2.COLOR_BGR2GRAY)\n",
    "        X.append(np.array(im))\n",
    "        Z.append(str(label))"
   ]
  },
  {
   "cell_type": "code",
   "execution_count": 5,
   "metadata": {},
   "outputs": [
    {
     "name": "stderr",
     "output_type": "stream",
     "text": [
      "100%|██████████| 769/769 [00:00<00:00, 1245816.83it/s]\n",
      "100%|██████████| 1052/1052 [00:00<00:00, 678310.19it/s]"
     ]
    },
    {
     "name": "stdout",
     "output_type": "stream",
     "text": [
      "769\n"
     ]
    },
    {
     "name": "stderr",
     "output_type": "stream",
     "text": [
      "\n",
      "100%|██████████| 784/784 [00:00<00:00, 1220614.08it/s]"
     ]
    },
    {
     "name": "stdout",
     "output_type": "stream",
     "text": [
      "1821\n"
     ]
    },
    {
     "name": "stderr",
     "output_type": "stream",
     "text": [
      "\n",
      "100%|██████████| 734/734 [00:00<00:00, 1037270.60it/s]"
     ]
    },
    {
     "name": "stdout",
     "output_type": "stream",
     "text": [
      "2605\n"
     ]
    },
    {
     "name": "stderr",
     "output_type": "stream",
     "text": [
      "\n",
      "100%|██████████| 984/984 [00:00<00:00, 639181.53it/s]"
     ]
    },
    {
     "name": "stdout",
     "output_type": "stream",
     "text": [
      "3339\n"
     ]
    },
    {
     "name": "stderr",
     "output_type": "stream",
     "text": [
      "\n"
     ]
    },
    {
     "name": "stdout",
     "output_type": "stream",
     "text": [
      "4323\n"
     ]
    }
   ],
   "source": [
    "train_data('Daisy',DAISY_DIR)\n",
    "print(len(X))\n",
    "train_data('Dandelion',DANDELION_DIR)\n",
    "print(len(X))\n",
    "train_data('Rose',ROSE_DIR)\n",
    "print(len(X))\n",
    "train_data('Sunflower',SUNFLOWER_DIR)\n",
    "print(len(X))\n",
    "train_data('Tulip',TULIP_DIR)\n",
    "print(len(X))"
   ]
  },
  {
   "cell_type": "code",
   "execution_count": 6,
   "metadata": {},
   "outputs": [
    {
     "name": "stdout",
     "output_type": "stream",
     "text": [
      "(4323, 80, 80)\n"
     ]
    }
   ],
   "source": [
    "#Label Encoding\n",
    "le=LabelEncoder()\n",
    "Y=le.fit_transform(Z)\n",
    "Y=to_categorical(Y,5)\n",
    "X=np.array(X)\n",
    "X=X/255\n",
    "print(X.shape)\n",
    "X=X[:,:,:,np.newaxis]"
   ]
  },
  {
   "cell_type": "code",
   "execution_count": 7,
   "metadata": {},
   "outputs": [
    {
     "name": "stdout",
     "output_type": "stream",
     "text": [
      "(3890, 80, 80, 1)\n"
     ]
    }
   ],
   "source": [
    "x_train,x_test,y_train,y_test=train_test_split(X,Y,test_size=0.10,random_state=10)\n",
    "print(x_train.shape)\n",
    "np.random.seed(10)\n",
    "rn.seed(10)\n",
    "tf.set_random_seed(10)"
   ]
  },
  {
   "cell_type": "code",
   "execution_count": 8,
   "metadata": {},
   "outputs": [
    {
     "name": "stdout",
     "output_type": "stream",
     "text": [
      "WARNING:tensorflow:From /home/aishee/anaconda3/lib/python3.7/site-packages/tensorflow/python/ops/resource_variable_ops.py:435: colocate_with (from tensorflow.python.framework.ops) is deprecated and will be removed in a future version.\n",
      "Instructions for updating:\n",
      "Colocations handled automatically by placer.\n"
     ]
    }
   ],
   "source": [
    "model = Sequential()\n",
    "model.add(Conv2D(filters = 32, kernel_size = (5,5),padding = 'Same',activation ='relu', input_shape = (80,80,1)))\n",
    "model.add(MaxPooling2D(pool_size=(2,2)))\n",
    "\n",
    "\n",
    "model.add(Conv2D(filters = 64, kernel_size = (3,3),padding = 'Same',activation ='relu'))\n",
    "model.add(MaxPooling2D(pool_size=(2,2), strides=(2,2)))\n",
    " \n",
    "\n",
    "model.add(Conv2D(filters =96, kernel_size = (3,3),padding = 'Same',activation ='relu'))\n",
    "model.add(MaxPooling2D(pool_size=(2,2), strides=(2,2)))\n",
    "\n",
    "model.add(Conv2D(filters = 96, kernel_size = (3,3),padding = 'Same',activation ='relu'))\n",
    "model.add(MaxPooling2D(pool_size=(2,2), strides=(2,2)))\n",
    "\n",
    "model.add(Flatten())\n",
    "model.add(Dense(512))\n",
    "model.add(Activation('relu'))\n",
    "model.add(Dense(5, activation = \"softmax\"))"
   ]
  },
  {
   "cell_type": "code",
   "execution_count": 9,
   "metadata": {},
   "outputs": [],
   "source": [
    "#data augmentation to prevent overfitting\n",
    "datagen = ImageDataGenerator(\n",
    "        featurewise_center=False,  # set input mean to 0 over the dataset\n",
    "        samplewise_center=False,  # set each sample mean to 0\n",
    "        featurewise_std_normalization=False,  # divide inputs by std of the dataset\n",
    "        samplewise_std_normalization=False,  # divide each input by its std\n",
    "        zca_whitening=False,  # apply ZCA whitening\n",
    "        rotation_range=10,  # randomly rotate images in the range (degrees, 0 to 180)\n",
    "        zoom_range = 0.1, # Randomly zoom image \n",
    "        width_shift_range=0.2,  # randomly shift images horizontally (fraction of total width)\n",
    "        height_shift_range=0.2,  # randomly shift images vertically (fraction of total height)\n",
    "        horizontal_flip=True,  # randomly flip images\n",
    "        vertical_flip=False)  # randomly flip images\n",
    "\n",
    "\n",
    "datagen.fit(x_train)"
   ]
  },
  {
   "cell_type": "code",
   "execution_count": 10,
   "metadata": {},
   "outputs": [
    {
     "name": "stdout",
     "output_type": "stream",
     "text": [
      "Model: \"sequential_1\"\n",
      "_________________________________________________________________\n",
      "Layer (type)                 Output Shape              Param #   \n",
      "=================================================================\n",
      "conv2d_1 (Conv2D)            (None, 80, 80, 32)        832       \n",
      "_________________________________________________________________\n",
      "max_pooling2d_1 (MaxPooling2 (None, 40, 40, 32)        0         \n",
      "_________________________________________________________________\n",
      "conv2d_2 (Conv2D)            (None, 40, 40, 64)        18496     \n",
      "_________________________________________________________________\n",
      "max_pooling2d_2 (MaxPooling2 (None, 20, 20, 64)        0         \n",
      "_________________________________________________________________\n",
      "conv2d_3 (Conv2D)            (None, 20, 20, 96)        55392     \n",
      "_________________________________________________________________\n",
      "max_pooling2d_3 (MaxPooling2 (None, 10, 10, 96)        0         \n",
      "_________________________________________________________________\n",
      "conv2d_4 (Conv2D)            (None, 10, 10, 96)        83040     \n",
      "_________________________________________________________________\n",
      "max_pooling2d_4 (MaxPooling2 (None, 5, 5, 96)          0         \n",
      "_________________________________________________________________\n",
      "flatten_1 (Flatten)          (None, 2400)              0         \n",
      "_________________________________________________________________\n",
      "dense_1 (Dense)              (None, 512)               1229312   \n",
      "_________________________________________________________________\n",
      "activation_1 (Activation)    (None, 512)               0         \n",
      "_________________________________________________________________\n",
      "dense_2 (Dense)              (None, 5)                 2565      \n",
      "=================================================================\n",
      "Total params: 1,389,637\n",
      "Trainable params: 1,389,637\n",
      "Non-trainable params: 0\n",
      "_________________________________________________________________\n"
     ]
    }
   ],
   "source": [
    "model.compile(optimizer=Adam(lr=0.001),loss='categorical_crossentropy',metrics=['accuracy'])\n",
    "model.summary()"
   ]
  },
  {
   "cell_type": "code",
   "execution_count": 11,
   "metadata": {},
   "outputs": [
    {
     "name": "stdout",
     "output_type": "stream",
     "text": [
      "WARNING:tensorflow:From /home/aishee/anaconda3/lib/python3.7/site-packages/tensorflow/python/ops/math_ops.py:3066: to_int32 (from tensorflow.python.ops.math_ops) is deprecated and will be removed in a future version.\n",
      "Instructions for updating:\n",
      "Use tf.cast instead.\n",
      "Epoch 1/50\n",
      "65/64 [==============================] - 140s 2s/step - loss: 1.5820 - accuracy: 0.2622 - val_loss: 1.4740 - val_accuracy: 0.3256\n",
      "Epoch 2/50\n",
      "65/64 [==============================] - 102s 2s/step - loss: 1.4839 - accuracy: 0.3663 - val_loss: 1.4063 - val_accuracy: 0.3926\n",
      "Epoch 3/50\n",
      "65/64 [==============================] - 101s 2s/step - loss: 1.4478 - accuracy: 0.3774 - val_loss: 1.3872 - val_accuracy: 0.4226\n",
      "Epoch 4/50\n",
      "65/64 [==============================] - 101s 2s/step - loss: 1.3960 - accuracy: 0.4141 - val_loss: 1.3722 - val_accuracy: 0.4273\n",
      "Epoch 5/50\n",
      "65/64 [==============================] - 101s 2s/step - loss: 1.3676 - accuracy: 0.4357 - val_loss: 1.2467 - val_accuracy: 0.5012\n",
      "Epoch 6/50\n",
      "65/64 [==============================] - 101s 2s/step - loss: 1.3433 - accuracy: 0.4401 - val_loss: 1.2193 - val_accuracy: 0.5150\n",
      "Epoch 7/50\n",
      "65/64 [==============================] - 102s 2s/step - loss: 1.3124 - accuracy: 0.4666 - val_loss: 1.3562 - val_accuracy: 0.3972\n",
      "Epoch 8/50\n",
      "65/64 [==============================] - 101s 2s/step - loss: 1.2587 - accuracy: 0.4864 - val_loss: 1.1686 - val_accuracy: 0.5150\n",
      "Epoch 9/50\n",
      "65/64 [==============================] - 101s 2s/step - loss: 1.2384 - accuracy: 0.4892 - val_loss: 1.1095 - val_accuracy: 0.5704\n",
      "Epoch 10/50\n",
      "65/64 [==============================] - 102s 2s/step - loss: 1.1888 - accuracy: 0.5257 - val_loss: 1.1779 - val_accuracy: 0.5104\n",
      "Epoch 11/50\n",
      "65/64 [==============================] - 101s 2s/step - loss: 1.1936 - accuracy: 0.5234 - val_loss: 1.0525 - val_accuracy: 0.5982\n",
      "Epoch 12/50\n",
      "65/64 [==============================] - 101s 2s/step - loss: 1.1341 - accuracy: 0.5524 - val_loss: 1.0429 - val_accuracy: 0.5889\n",
      "Epoch 13/50\n",
      "65/64 [==============================] - 101s 2s/step - loss: 1.0929 - accuracy: 0.5699 - val_loss: 1.0382 - val_accuracy: 0.6236\n",
      "Epoch 14/50\n",
      "65/64 [==============================] - 101s 2s/step - loss: 1.0673 - accuracy: 0.5697 - val_loss: 0.9961 - val_accuracy: 0.6166\n",
      "Epoch 15/50\n",
      "65/64 [==============================] - 102s 2s/step - loss: 1.0594 - accuracy: 0.5889 - val_loss: 0.8906 - val_accuracy: 0.6651\n",
      "Epoch 16/50\n",
      "65/64 [==============================] - 101s 2s/step - loss: 1.0167 - accuracy: 0.6026 - val_loss: 0.9145 - val_accuracy: 0.6628\n",
      "Epoch 17/50\n",
      "65/64 [==============================] - 101s 2s/step - loss: 0.9857 - accuracy: 0.6165 - val_loss: 0.8891 - val_accuracy: 0.6628\n",
      "Epoch 18/50\n",
      "65/64 [==============================] - 101s 2s/step - loss: 0.9689 - accuracy: 0.6262 - val_loss: 0.9039 - val_accuracy: 0.6651\n",
      "Epoch 19/50\n",
      "65/64 [==============================] - 101s 2s/step - loss: 0.9392 - accuracy: 0.6306 - val_loss: 0.9304 - val_accuracy: 0.6282\n",
      "Epoch 20/50\n",
      "65/64 [==============================] - 102s 2s/step - loss: 0.9340 - accuracy: 0.6396 - val_loss: 0.8288 - val_accuracy: 0.6859\n",
      "Epoch 21/50\n",
      "65/64 [==============================] - 103s 2s/step - loss: 0.9110 - accuracy: 0.6488 - val_loss: 0.8544 - val_accuracy: 0.6905\n",
      "Epoch 22/50\n",
      "65/64 [==============================] - 102s 2s/step - loss: 0.8791 - accuracy: 0.6614 - val_loss: 0.8232 - val_accuracy: 0.6744\n",
      "Epoch 23/50\n",
      "65/64 [==============================] - 102s 2s/step - loss: 0.8658 - accuracy: 0.6699 - val_loss: 0.8386 - val_accuracy: 0.6767\n",
      "Epoch 24/50\n",
      "65/64 [==============================] - 101s 2s/step - loss: 0.8445 - accuracy: 0.6740 - val_loss: 0.8194 - val_accuracy: 0.6928\n",
      "Epoch 25/50\n",
      "65/64 [==============================] - 101s 2s/step - loss: 0.8227 - accuracy: 0.6851 - val_loss: 0.8322 - val_accuracy: 0.6605\n",
      "Epoch 26/50\n",
      "65/64 [==============================] - 101s 2s/step - loss: 0.8104 - accuracy: 0.6889 - val_loss: 0.7971 - val_accuracy: 0.6928\n",
      "Epoch 27/50\n",
      "65/64 [==============================] - 101s 2s/step - loss: 0.7760 - accuracy: 0.7057 - val_loss: 0.7818 - val_accuracy: 0.6952\n",
      "Epoch 28/50\n",
      "65/64 [==============================] - 101s 2s/step - loss: 0.7890 - accuracy: 0.6969 - val_loss: 0.8240 - val_accuracy: 0.7021\n",
      "Epoch 29/50\n",
      "65/64 [==============================] - 101s 2s/step - loss: 0.7367 - accuracy: 0.7221 - val_loss: 0.8169 - val_accuracy: 0.6836\n",
      "Epoch 30/50\n",
      "65/64 [==============================] - 108s 2s/step - loss: 0.7377 - accuracy: 0.7201 - val_loss: 0.8276 - val_accuracy: 0.6882\n",
      "Epoch 31/50\n",
      "65/64 [==============================] - 102s 2s/step - loss: 0.7089 - accuracy: 0.7344 - val_loss: 0.8228 - val_accuracy: 0.7044\n",
      "Epoch 32/50\n",
      "65/64 [==============================] - 102s 2s/step - loss: 0.7105 - accuracy: 0.7249 - val_loss: 0.8008 - val_accuracy: 0.7090\n",
      "Epoch 33/50\n",
      "65/64 [==============================] - 102s 2s/step - loss: 0.6678 - accuracy: 0.7491 - val_loss: 0.8349 - val_accuracy: 0.7090\n",
      "Epoch 34/50\n",
      "65/64 [==============================] - 101s 2s/step - loss: 0.6767 - accuracy: 0.7450 - val_loss: 0.8581 - val_accuracy: 0.6721\n",
      "Epoch 35/50\n",
      "65/64 [==============================] - 101s 2s/step - loss: 0.6614 - accuracy: 0.7573 - val_loss: 0.7884 - val_accuracy: 0.7252\n",
      "Epoch 36/50\n",
      "65/64 [==============================] - 101s 2s/step - loss: 0.6679 - accuracy: 0.7398 - val_loss: 0.8543 - val_accuracy: 0.7090\n",
      "Epoch 37/50\n",
      "65/64 [==============================] - 102s 2s/step - loss: 0.6298 - accuracy: 0.7555 - val_loss: 0.8556 - val_accuracy: 0.7090\n",
      "Epoch 38/50\n",
      "65/64 [==============================] - 101s 2s/step - loss: 0.6491 - accuracy: 0.7576 - val_loss: 0.7939 - val_accuracy: 0.7206\n",
      "Epoch 39/50\n",
      "65/64 [==============================] - 101s 2s/step - loss: 0.6054 - accuracy: 0.7740 - val_loss: 0.8135 - val_accuracy: 0.7229\n",
      "Epoch 40/50\n",
      "65/64 [==============================] - 102s 2s/step - loss: 0.5939 - accuracy: 0.7771 - val_loss: 0.8436 - val_accuracy: 0.7090\n",
      "Epoch 41/50\n",
      "65/64 [==============================] - 101s 2s/step - loss: 0.6062 - accuracy: 0.7712 - val_loss: 0.8061 - val_accuracy: 0.7113\n",
      "Epoch 42/50\n",
      "65/64 [==============================] - 101s 2s/step - loss: 0.5764 - accuracy: 0.7853 - val_loss: 0.8429 - val_accuracy: 0.7159\n",
      "Epoch 43/50\n",
      "65/64 [==============================] - 102s 2s/step - loss: 0.6015 - accuracy: 0.7774 - val_loss: 0.8225 - val_accuracy: 0.7136\n",
      "Epoch 44/50\n",
      "65/64 [==============================] - 101s 2s/step - loss: 0.5447 - accuracy: 0.7974 - val_loss: 0.8189 - val_accuracy: 0.7206\n",
      "Epoch 45/50\n",
      "65/64 [==============================] - 101s 2s/step - loss: 0.5568 - accuracy: 0.7882 - val_loss: 0.9004 - val_accuracy: 0.7044\n",
      "Epoch 46/50\n",
      "65/64 [==============================] - 102s 2s/step - loss: 0.5449 - accuracy: 0.7920 - val_loss: 0.9126 - val_accuracy: 0.6952\n",
      "Epoch 47/50\n",
      "65/64 [==============================] - 101s 2s/step - loss: 0.5320 - accuracy: 0.8039 - val_loss: 0.8762 - val_accuracy: 0.7229\n",
      "Epoch 48/50\n",
      "65/64 [==============================] - 101s 2s/step - loss: 0.5184 - accuracy: 0.8108 - val_loss: 0.9003 - val_accuracy: 0.7021\n",
      "Epoch 49/50\n",
      "65/64 [==============================] - 101s 2s/step - loss: 0.5068 - accuracy: 0.8087 - val_loss: 0.8624 - val_accuracy: 0.7206\n",
      "Epoch 50/50\n",
      "65/64 [==============================] - 102s 2s/step - loss: 0.5580 - accuracy: 0.7871 - val_loss: 0.8685 - val_accuracy: 0.7252\n"
     ]
    }
   ],
   "source": [
    "History = model.fit_generator(datagen.flow(x_train,y_train, batch_size=60),\n",
    "                              epochs = 50, validation_data = (x_test,y_test),\n",
    "                              verbose = 1, steps_per_epoch=x_train.shape[0] / 60)"
   ]
  },
  {
   "cell_type": "code",
   "execution_count": 12,
   "metadata": {},
   "outputs": [
    {
     "data": {
      "image/png": "[encoded data removed]",
      "text/plain": [
       "<Figure size 432x288 with 1 Axes>"
      ]
     },
     "metadata": {
      "needs_background": "light"
     },
     "output_type": "display_data"
    }
   ],
   "source": [
    "#Plotting Loss\n",
    "plt.plot(History.history['loss'])\n",
    "plt.plot(History.history['val_loss'])\n",
    "plt.title('Model Loss')\n",
    "plt.ylabel('Loss')\n",
    "plt.xlabel('Epochs')\n",
    "plt.legend(['train', 'test'])\n",
    "plt.show()"
   ]
  },
  {
   "cell_type": "code",
   "execution_count": 13,
   "metadata": {},
   "outputs": [
    {
     "data": {
      "image/png": "[encoded data removed]",
      "text/plain": [
       "<Figure size 432x288 with 1 Axes>"
      ]
     },
     "metadata": {
      "needs_background": "light"
     },
     "output_type": "display_data"
    }
   ],
   "source": [
    "#plotting accuracy\n",
    "plt.plot(History.history['accuracy'])\n",
    "plt.plot(History.history['val_accuracy'])\n",
    "plt.title('Model Accuracy')\n",
    "plt.ylabel('Accuracy')\n",
    "plt.xlabel('Epochs')\n",
    "plt.legend(['train', 'test'])\n",
    "plt.show()"
   ]
  }
 ],
 "metadata": {
  "kernelspec": {
   "display_name": "Python 3",
   "language": "python",
   "name": "python3"
  },
  "language_info": {
   "codemirror_mode": {
    "name": "ipython",
    "version": 3
   },
   "file_extension": ".py",
   "mimetype": "text/x-python",
   "name": "python",
   "nbconvert_exporter": "python",
   "pygments_lexer": "ipython3",
   "version": "3.7.3"
  }
 },
 "nbformat": 4,
 "nbformat_minor": 2
}
